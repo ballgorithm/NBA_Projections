{
 "cells": [
  {
   "cell_type": "code",
   "execution_count": 10,
   "metadata": {},
   "outputs": [],
   "source": [
    "import pandas as pd\n",
    "from prettytable import PrettyTable\n",
    "from tabulate import tabulate\n",
    "from termcolor import colored\n"
   ]
  },
  {
   "cell_type": "code",
   "execution_count": 11,
   "metadata": {},
   "outputs": [],
   "source": [
    "df = pd.read_excel('espn_comparison.xlsx')"
   ]
  },
  {
   "cell_type": "code",
   "execution_count": 12,
   "metadata": {},
   "outputs": [
    {
     "data": {
      "text/html": [
       "<div>\n",
       "<style scoped>\n",
       "    .dataframe tbody tr th:only-of-type {\n",
       "        vertical-align: middle;\n",
       "    }\n",
       "\n",
       "    .dataframe tbody tr th {\n",
       "        vertical-align: top;\n",
       "    }\n",
       "\n",
       "    .dataframe thead th {\n",
       "        text-align: right;\n",
       "    }\n",
       "</style>\n",
       "<table border=\"1\" class=\"dataframe\">\n",
       "  <thead>\n",
       "    <tr style=\"text-align: right;\">\n",
       "      <th></th>\n",
       "      <th>Date</th>\n",
       "      <th>Games</th>\n",
       "      <th>Ballgorithm</th>\n",
       "      <th>ESPN</th>\n",
       "    </tr>\n",
       "  </thead>\n",
       "  <tbody>\n",
       "    <tr>\n",
       "      <th>0</th>\n",
       "      <td>Sun, Feb 4, 2024</td>\n",
       "      <td>Orlando Magic (26-23) vs Detroit Pistons (6-42)</td>\n",
       "      <td>Orlando Magic (68.18%)</td>\n",
       "      <td>Orlando Magic (64.1%)</td>\n",
       "    </tr>\n",
       "    <tr>\n",
       "      <th>1</th>\n",
       "      <td>Sun, Feb 4, 2024</td>\n",
       "      <td>Phoenix Suns (28-21) vs Washington Wizards (9-39)</td>\n",
       "      <td>Phoenix Suns (56.00%)</td>\n",
       "      <td>Phoenix Suns (81.00%)</td>\n",
       "    </tr>\n",
       "    <tr>\n",
       "      <th>2</th>\n",
       "      <td>Sun, Feb 4, 2024</td>\n",
       "      <td>Memphis Grizzlies (18-31) vs Boston Celtics (3...</td>\n",
       "      <td>Boston Celtics (88.00%)</td>\n",
       "      <td>Boston Celtics (95.6%)</td>\n",
       "    </tr>\n",
       "    <tr>\n",
       "      <th>3</th>\n",
       "      <td>Sun, Feb 4, 2024</td>\n",
       "      <td>Indiana Pacers (27-24) vs Charlotte Hornets (1...</td>\n",
       "      <td>Indiana Pacers (61.54%)</td>\n",
       "      <td>Indiana Pacers (80.1%)</td>\n",
       "    </tr>\n",
       "    <tr>\n",
       "      <th>4</th>\n",
       "      <td>Sun, Feb 4, 2024</td>\n",
       "      <td>Los Angeles Clippers (32-15) vs Miami Heat (26...</td>\n",
       "      <td>Los Angeles Clippers (82.61%)</td>\n",
       "      <td>Los Angeles Clippers (71.2%)</td>\n",
       "    </tr>\n",
       "    <tr>\n",
       "      <th>5</th>\n",
       "      <td>Sun, Feb 4, 2024</td>\n",
       "      <td>Houston Rockets (23-25) vs Minnesota Timberwol...</td>\n",
       "      <td>Minnesota Timberwolves (78.26%)</td>\n",
       "      <td>Minnesota Timberwolves (68.3%)</td>\n",
       "    </tr>\n",
       "    <tr>\n",
       "      <th>6</th>\n",
       "      <td>Sun, Feb 4, 2024</td>\n",
       "      <td>Toronto Raptors (17-31) vs Oklahoma City Thund...</td>\n",
       "      <td>Oklahoma City Thunder (76.00%)</td>\n",
       "      <td>Oklahoma City Thunder (75.5%)</td>\n",
       "    </tr>\n",
       "    <tr>\n",
       "      <th>7</th>\n",
       "      <td>Sun, Feb 4, 2024</td>\n",
       "      <td>Milwaukee Bucks (33-16) vs Utah Jazz (24-26)</td>\n",
       "      <td>Milwaukee Bucks (80.77%)</td>\n",
       "      <td>Utah Jazz (61.5%)</td>\n",
       "    </tr>\n",
       "    <tr>\n",
       "      <th>8</th>\n",
       "      <td>Sun, Feb 4, 2024</td>\n",
       "      <td>Portland Trail Blazers (15-34) vs Denver Nugge...</td>\n",
       "      <td>Denver Nuggets (83.33%)</td>\n",
       "      <td>Denver Nuggets (86.5%)</td>\n",
       "    </tr>\n",
       "  </tbody>\n",
       "</table>\n",
       "</div>"
      ],
      "text/plain": [
       "               Date                                              Games  \\\n",
       "0  Sun, Feb 4, 2024    Orlando Magic (26-23) vs Detroit Pistons (6-42)   \n",
       "1  Sun, Feb 4, 2024  Phoenix Suns (28-21) vs Washington Wizards (9-39)   \n",
       "2  Sun, Feb 4, 2024  Memphis Grizzlies (18-31) vs Boston Celtics (3...   \n",
       "3  Sun, Feb 4, 2024  Indiana Pacers (27-24) vs Charlotte Hornets (1...   \n",
       "4  Sun, Feb 4, 2024  Los Angeles Clippers (32-15) vs Miami Heat (26...   \n",
       "5  Sun, Feb 4, 2024  Houston Rockets (23-25) vs Minnesota Timberwol...   \n",
       "6  Sun, Feb 4, 2024  Toronto Raptors (17-31) vs Oklahoma City Thund...   \n",
       "7  Sun, Feb 4, 2024       Milwaukee Bucks (33-16) vs Utah Jazz (24-26)   \n",
       "8  Sun, Feb 4, 2024  Portland Trail Blazers (15-34) vs Denver Nugge...   \n",
       "\n",
       "                       Ballgorithm                            ESPN  \n",
       "0          Orlando Magic (68.18%)           Orlando Magic (64.1%)   \n",
       "1            Phoenix Suns (56.00%)           Phoenix Suns (81.00%)  \n",
       "2          Boston Celtics (88.00%)          Boston Celtics (95.6%)  \n",
       "3          Indiana Pacers (61.54%)          Indiana Pacers (80.1%)  \n",
       "4    Los Angeles Clippers (82.61%)    Los Angeles Clippers (71.2%)  \n",
       "5  Minnesota Timberwolves (78.26%)  Minnesota Timberwolves (68.3%)  \n",
       "6   Oklahoma City Thunder (76.00%)   Oklahoma City Thunder (75.5%)  \n",
       "7        Milwaukee Bucks (80.77%)               Utah Jazz (61.5%)   \n",
       "8          Denver Nuggets (83.33%)          Denver Nuggets (86.5%)  "
      ]
     },
     "execution_count": 12,
     "metadata": {},
     "output_type": "execute_result"
    }
   ],
   "source": [
    "df"
   ]
  },
  {
   "cell_type": "code",
   "execution_count": 21,
   "metadata": {},
   "outputs": [
    {
     "name": "stdout",
     "output_type": "stream",
     "text": [
      "+------------------+-----------------------------------------------------------+---------------------------------+--------------------------------+\n",
      "|       Date       |                           Games                           |           Ballgorithm           |              ESPN              |\n",
      "+------------------+-----------------------------------------------------------+---------------------------------+--------------------------------+\n",
      "| \u001b[32mSun, Feb 4, 2024\u001b[0m |      \u001b[32mOrlando Magic (26-23) vs Detroit Pistons (6-42)\u001b[0m      |     \u001b[32mOrlando Magic (68.18%) \u001b[0m     |     \u001b[32mOrlando Magic (64.1%) \u001b[0m     |\n",
      "| \u001b[32mSun, Feb 4, 2024\u001b[0m |     \u001b[32mPhoenix Suns (28-21) vs Washington Wizards (9-39)\u001b[0m     |      \u001b[32mPhoenix Suns (56.00%)\u001b[0m      |     \u001b[32mPhoenix Suns (81.00%)\u001b[0m      |\n",
      "| \u001b[32mSun, Feb 4, 2024\u001b[0m |   \u001b[32mMemphis Grizzlies (18-31) vs Boston Celtics (37-12) \u001b[0m    |     \u001b[32mBoston Celtics (88.00%)\u001b[0m     |     \u001b[32mBoston Celtics (95.6%)\u001b[0m     |\n",
      "| \u001b[32mSun, Feb 4, 2024\u001b[0m |   \u001b[32mIndiana Pacers (27-24) vs Charlotte Hornets (10-37) \u001b[0m    |     \u001b[32mIndiana Pacers (61.54%)\u001b[0m     |     \u001b[32mIndiana Pacers (80.1%)\u001b[0m     |\n",
      "| \u001b[32mSun, Feb 4, 2024\u001b[0m |    \u001b[32mLos Angeles Clippers (32-15) vs Miami Heat (26-23)\u001b[0m     |  \u001b[32mLos Angeles Clippers (82.61%)\u001b[0m  |  \u001b[32mLos Angeles Clippers (71.2%)\u001b[0m  |\n",
      "| \u001b[32mSun, Feb 4, 2024\u001b[0m | \u001b[32mHouston Rockets (23-25) vs Minnesota Timberwolves (34-15)\u001b[0m | \u001b[32mMinnesota Timberwolves (78.26%)\u001b[0m | \u001b[32mMinnesota Timberwolves (68.3%)\u001b[0m |\n",
      "| \u001b[32mSun, Feb 4, 2024\u001b[0m | \u001b[32mToronto Raptors (17-31) vs Oklahoma City Thunder (34-15)\u001b[0m  | \u001b[32mOklahoma City Thunder (76.00%)\u001b[0m  | \u001b[32mOklahoma City Thunder (75.5%)\u001b[0m  |\n",
      "| \u001b[32mSun, Feb 4, 2024\u001b[0m |       \u001b[32mMilwaukee Bucks (33-16) vs Utah Jazz (24-26)\u001b[0m        |    \u001b[32mMilwaukee Bucks (80.77%) \u001b[0m    |       \u001b[32mUtah Jazz (61.5%) \u001b[0m       |\n",
      "| \u001b[32mSun, Feb 4, 2024\u001b[0m | \u001b[32mPortland Trail Blazers (15-34) vs Denver Nuggets (34-16)\u001b[0m  |     \u001b[32mDenver Nuggets (83.33%)\u001b[0m     |     \u001b[32mDenver Nuggets (86.5%)\u001b[0m     |\n",
      "+------------------+-----------------------------------------------------------+---------------------------------+--------------------------------+\n"
     ]
    }
   ],
   "source": [
    "def color_value(val):\n",
    "    return colored(val, 'green')\n",
    "\n",
    "def color_header(header):\n",
    "    return colored(header, 'blue', attrs=['bold'])\n",
    "\n",
    "# Apply color functions to each cell in the dataframe, including headers\n",
    "colored_df = df.applymap(lambda x: color_value(x) if x not in df.columns else color_header(x))\n",
    "\n",
    "# Create a pretty table from the colored dataframe\n",
    "result_table = tabulate(colored_df, headers='keys', tablefmt='pretty', showindex=False)\n",
    "\n",
    "print(result_table)"
   ]
  },
  {
   "cell_type": "code",
   "execution_count": 7,
   "metadata": {},
   "outputs": [
    {
     "name": "stdout",
     "output_type": "stream",
     "text": [
      "\n",
      "Result Table:\n",
      "+------------------+---------------------------------+--------------------------------+\n",
      "|       Date       |           Ballgorithm           |              ESPN              |\n",
      "+------------------+---------------------------------+--------------------------------+\n",
      "| Sun, Feb 4, 2024 |     Orlando Magic (68.18%)      |     Orlando Magic (64.1%)      |\n",
      "| Sun, Feb 4, 2024 |      Phoenix Suns (56.00%)      |     Phoenix Suns (81.00%)      |\n",
      "| Sun, Feb 4, 2024 |     Boston Celtics (88.00%)     |     Boston Celtics (95.6%)     |\n",
      "| Sun, Feb 4, 2024 |     Indiana Pacers (61.54%)     |     Indiana Pacers (80.1%)     |\n",
      "| Sun, Feb 4, 2024 |  Los Angeles Clippers (82.61%)  |  Los Angeles Clippers (71.2%)  |\n",
      "| Sun, Feb 4, 2024 | Minnesota Timberwolves (78.26%) | Minnesota Timberwolves (68.3%) |\n",
      "| Sun, Feb 4, 2024 | Oklahoma City Thunder (76.00%)  | Oklahoma City Thunder (75.5%)  |\n",
      "| Sun, Feb 4, 2024 |    Milwaukee Bucks (80.77%)     |       Utah Jazz (61.5%)        |\n",
      "| Sun, Feb 4, 2024 |     Denver Nuggets (83.33%)     |     Denver Nuggets (86.5%)     |\n",
      "+------------------+---------------------------------+--------------------------------+\n"
     ]
    }
   ],
   "source": [
    "# Display the DataFrame using tabulate with \"Accuracy\" values formatted to 2 decimal places and green text\n",
    "print(\"\\nResult Table:\")\n",
    "print(tabulate(df[['Date', 'Ballgorithm', 'ESPN']], headers='keys', tablefmt='pretty', missingval='', showindex=False))"
   ]
  },
  {
   "cell_type": "code",
   "execution_count": null,
   "metadata": {},
   "outputs": [],
   "source": []
  }
 ],
 "metadata": {
  "kernelspec": {
   "display_name": "Python 3",
   "language": "python",
   "name": "python3"
  },
  "language_info": {
   "codemirror_mode": {
    "name": "ipython",
    "version": 3
   },
   "file_extension": ".py",
   "mimetype": "text/x-python",
   "name": "python",
   "nbconvert_exporter": "python",
   "pygments_lexer": "ipython3",
   "version": "3.11.0"
  }
 },
 "nbformat": 4,
 "nbformat_minor": 2
}
