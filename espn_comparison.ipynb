{
 "cells": [
  {
   "cell_type": "code",
   "execution_count": 2,
   "metadata": {},
   "outputs": [],
   "source": [
    "import pandas as pd\n",
    "from prettytable import PrettyTable\n",
    "from tabulate import tabulate\n",
    "from termcolor import colored\n"
   ]
  },
  {
   "cell_type": "code",
   "execution_count": 3,
   "metadata": {},
   "outputs": [],
   "source": [
    "df = pd.read_excel('espn_comparison.xlsx')"
   ]
  },
  {
   "cell_type": "code",
   "execution_count": 4,
   "metadata": {},
   "outputs": [
    {
     "data": {
      "text/html": [
       "<div>\n",
       "<style scoped>\n",
       "    .dataframe tbody tr th:only-of-type {\n",
       "        vertical-align: middle;\n",
       "    }\n",
       "\n",
       "    .dataframe tbody tr th {\n",
       "        vertical-align: top;\n",
       "    }\n",
       "\n",
       "    .dataframe thead th {\n",
       "        text-align: right;\n",
       "    }\n",
       "</style>\n",
       "<table border=\"1\" class=\"dataframe\">\n",
       "  <thead>\n",
       "    <tr style=\"text-align: right;\">\n",
       "      <th></th>\n",
       "      <th>NBA, Saturday 10th Feb 2024</th>\n",
       "      <th>Ballgorithm</th>\n",
       "      <th>ESPN</th>\n",
       "    </tr>\n",
       "  </thead>\n",
       "  <tbody>\n",
       "    <tr>\n",
       "      <th>0</th>\n",
       "      <td>Oklahoma City Thunder (35-16) vs Dallas Maveri...</td>\n",
       "      <td>Oklahoma City Thunder (76.92%)</td>\n",
       "      <td>Oklahoma City Thunder (64.5%)</td>\n",
       "    </tr>\n",
       "    <tr>\n",
       "      <th>1</th>\n",
       "      <td>Detroit Pistons (8-43) vs Los Angeles Clippers...</td>\n",
       "      <td>Los Angeles Clippers (79.17%)</td>\n",
       "      <td>Los Angeles Clippers (94.0%)</td>\n",
       "    </tr>\n",
       "    <tr>\n",
       "      <th>2</th>\n",
       "      <td>San Antonio Spurs (10-42) vs Brooklyn Nets (20...</td>\n",
       "      <td>San Antonio Spurs (42.86%)</td>\n",
       "      <td>Brooklyn Nets (74.8%)</td>\n",
       "    </tr>\n",
       "    <tr>\n",
       "      <th>3</th>\n",
       "      <td>Memphis Grizzlies (18-34) vs Charlotte Hornets...</td>\n",
       "      <td>Memphis Grizzlies (20.83%)</td>\n",
       "      <td>Memphis Grizzlies (66.9%)</td>\n",
       "    </tr>\n",
       "    <tr>\n",
       "      <th>4</th>\n",
       "      <td>Chicago Bulls (25-27) vs Orlando Magic (28-24)</td>\n",
       "      <td>Orlando Magic (69.57%)</td>\n",
       "      <td>Orlando Magic (68.5%)</td>\n",
       "    </tr>\n",
       "    <tr>\n",
       "      <th>5</th>\n",
       "      <td>Philadelphia 76ers (30-21) vs Washington Wizar...</td>\n",
       "      <td>Philadelphia 76ers (62.96%)</td>\n",
       "      <td>Philadelphia 76ers (63.6%)</td>\n",
       "    </tr>\n",
       "    <tr>\n",
       "      <th>6</th>\n",
       "      <td>Houston Rockets (23-28) vs Atlanta Hawks (23-29)</td>\n",
       "      <td>Houston Rockets (66.67%)</td>\n",
       "      <td>Houston Rockets (56.4%)</td>\n",
       "    </tr>\n",
       "    <tr>\n",
       "      <th>7</th>\n",
       "      <td>Indiana Pacers (29-25) vs New York Knicks (33-19)</td>\n",
       "      <td>New York Knicks (73.08%)</td>\n",
       "      <td>New York Knicks (56.0%)</td>\n",
       "    </tr>\n",
       "    <tr>\n",
       "      <th>8</th>\n",
       "      <td>Cleveland Cavaliers (34-16) vs Toronto Raptors...</td>\n",
       "      <td>Cleveland Cavaliers (69.23%)</td>\n",
       "      <td>Cleveland Cavaliers (78.3%)</td>\n",
       "    </tr>\n",
       "    <tr>\n",
       "      <th>9</th>\n",
       "      <td>Phoenix Suns (31-21) vs Golden State Warriors ...</td>\n",
       "      <td>Phoenix Suns (59.26%)</td>\n",
       "      <td>Golden State Warriors (55.2%)</td>\n",
       "    </tr>\n",
       "    <tr>\n",
       "      <th>10</th>\n",
       "      <td>New Orleans Pelicans (30-22) vs Portland Trail...</td>\n",
       "      <td>New Orleans Pelicans (60.00%)</td>\n",
       "      <td>New Orleans Pelicans (81.8%)</td>\n",
       "    </tr>\n",
       "  </tbody>\n",
       "</table>\n",
       "</div>"
      ],
      "text/plain": [
       "                          NBA, Saturday 10th Feb 2024  \\\n",
       "0   Oklahoma City Thunder (35-16) vs Dallas Maveri...   \n",
       "1   Detroit Pistons (8-43) vs Los Angeles Clippers...   \n",
       "2   San Antonio Spurs (10-42) vs Brooklyn Nets (20...   \n",
       "3   Memphis Grizzlies (18-34) vs Charlotte Hornets...   \n",
       "4      Chicago Bulls (25-27) vs Orlando Magic (28-24)   \n",
       "5   Philadelphia 76ers (30-21) vs Washington Wizar...   \n",
       "6    Houston Rockets (23-28) vs Atlanta Hawks (23-29)   \n",
       "7   Indiana Pacers (29-25) vs New York Knicks (33-19)   \n",
       "8   Cleveland Cavaliers (34-16) vs Toronto Raptors...   \n",
       "9   Phoenix Suns (31-21) vs Golden State Warriors ...   \n",
       "10  New Orleans Pelicans (30-22) vs Portland Trail...   \n",
       "\n",
       "                       Ballgorithm                           ESPN  \n",
       "0   Oklahoma City Thunder (76.92%)  Oklahoma City Thunder (64.5%)  \n",
       "1    Los Angeles Clippers (79.17%)   Los Angeles Clippers (94.0%)  \n",
       "2       San Antonio Spurs (42.86%)          Brooklyn Nets (74.8%)  \n",
       "3       Memphis Grizzlies (20.83%)      Memphis Grizzlies (66.9%)  \n",
       "4           Orlando Magic (69.57%)          Orlando Magic (68.5%)  \n",
       "5      Philadelphia 76ers (62.96%)     Philadelphia 76ers (63.6%)  \n",
       "6         Houston Rockets (66.67%)        Houston Rockets (56.4%)  \n",
       "7         New York Knicks (73.08%)        New York Knicks (56.0%)  \n",
       "8     Cleveland Cavaliers (69.23%)    Cleveland Cavaliers (78.3%)  \n",
       "9            Phoenix Suns (59.26%)  Golden State Warriors (55.2%)  \n",
       "10   New Orleans Pelicans (60.00%)   New Orleans Pelicans (81.8%)  "
      ]
     },
     "execution_count": 4,
     "metadata": {},
     "output_type": "execute_result"
    }
   ],
   "source": [
    "df"
   ]
  },
  {
   "cell_type": "code",
   "execution_count": 5,
   "metadata": {},
   "outputs": [
    {
     "name": "stdout",
     "output_type": "stream",
     "text": [
      "+----------------------------------------------------------------+--------------------------------+-------------------------------+\n",
      "|                  NBA, Saturday 10th Feb 2024                   |          Ballgorithm           |             ESPN              |\n",
      "+----------------------------------------------------------------+--------------------------------+-------------------------------+\n",
      "|   \u001b[32mOklahoma City Thunder (35-16) vs Dallas Mavericks (29-23)\u001b[0m    | \u001b[32mOklahoma City Thunder (76.92%)\u001b[0m | \u001b[32mOklahoma City Thunder (64.5%)\u001b[0m |\n",
      "|     \u001b[32mDetroit Pistons (8-43) vs Los Angeles Clippers (34-16)\u001b[0m     | \u001b[32mLos Angeles Clippers (79.17%)\u001b[0m  | \u001b[32mLos Angeles Clippers (94.0%)\u001b[0m  |\n",
      "|       \u001b[32mSan Antonio Spurs (10-42) vs Brooklyn Nets (20-31)\u001b[0m       |   \u001b[32mSan Antonio Spurs (42.86%)\u001b[0m   |     \u001b[32mBrooklyn Nets (74.8%)\u001b[0m     |\n",
      "|     \u001b[32mMemphis Grizzlies (18-34) vs Charlotte Hornets (10-41)\u001b[0m     |   \u001b[32mMemphis Grizzlies (20.83%)\u001b[0m   |   \u001b[32mMemphis Grizzlies (66.9%)\u001b[0m   |\n",
      "|         \u001b[32mChicago Bulls (25-27) vs Orlando Magic (28-24)\u001b[0m         |     \u001b[32mOrlando Magic (69.57%)\u001b[0m     |     \u001b[32mOrlando Magic (68.5%)\u001b[0m     |\n",
      "|    \u001b[32mPhiladelphia 76ers (30-21) vs Washington Wizards (9-42)\u001b[0m     |  \u001b[32mPhiladelphia 76ers (62.96%)\u001b[0m   |  \u001b[32mPhiladelphia 76ers (63.6%)\u001b[0m   |\n",
      "|        \u001b[32mHouston Rockets (23-28) vs Atlanta Hawks (23-29)\u001b[0m        |    \u001b[32mHouston Rockets (66.67%)\u001b[0m    |    \u001b[32mHouston Rockets (56.4%)\u001b[0m    |\n",
      "|       \u001b[32mIndiana Pacers (29-25) vs New York Knicks (33-19)\u001b[0m        |    \u001b[32mNew York Knicks (73.08%)\u001b[0m    |    \u001b[32mNew York Knicks (56.0%)\u001b[0m    |\n",
      "|     \u001b[32mCleveland Cavaliers (34-16) vs Toronto Raptors (19-33)\u001b[0m     |  \u001b[32mCleveland Cavaliers (69.23%)\u001b[0m  |  \u001b[32mCleveland Cavaliers (78.3%)\u001b[0m  |\n",
      "|     \u001b[32mPhoenix Suns (31-21) vs Golden State Warriors (24-25)\u001b[0m      |     \u001b[32mPhoenix Suns (59.26%)\u001b[0m      | \u001b[32mGolden State Warriors (55.2%)\u001b[0m |\n",
      "| \u001b[32mNew Orleans Pelicans (30-22) vs Portland Trail Blazers (15-36)\u001b[0m | \u001b[32mNew Orleans Pelicans (60.00%)\u001b[0m  | \u001b[32mNew Orleans Pelicans (81.8%)\u001b[0m  |\n",
      "+----------------------------------------------------------------+--------------------------------+-------------------------------+\n"
     ]
    }
   ],
   "source": [
    "def color_value(val):\n",
    "    return colored(val, 'green')\n",
    "\n",
    "def color_header(header):\n",
    "    return colored(header, 'blue', attrs=['bold'])\n",
    "\n",
    "# Apply color functions to each cell in the dataframe, including headers\n",
    "colored_df = df.applymap(lambda x: color_value(x) if x not in df.columns else color_header(x))\n",
    "\n",
    "# Create a pretty table from the colored dataframe\n",
    "result_table = tabulate(colored_df, headers='keys', tablefmt='pretty', showindex=False)\n",
    "\n",
    "print(result_table)"
   ]
  },
  {
   "cell_type": "code",
   "execution_count": 6,
   "metadata": {},
   "outputs": [
    {
     "name": "stdout",
     "output_type": "stream",
     "text": [
      "\n",
      "Result Table:\n"
     ]
    },
    {
     "ename": "KeyError",
     "evalue": "\"['Date'] not in index\"",
     "output_type": "error",
     "traceback": [
      "\u001b[1;31m---------------------------------------------------------------------------\u001b[0m",
      "\u001b[1;31mKeyError\u001b[0m                                  Traceback (most recent call last)",
      "Cell \u001b[1;32mIn[6], line 3\u001b[0m\n\u001b[0;32m      1\u001b[0m \u001b[38;5;66;03m# Display the DataFrame using tabulate with \"Accuracy\" values formatted to 2 decimal places and green text\u001b[39;00m\n\u001b[0;32m      2\u001b[0m \u001b[38;5;28mprint\u001b[39m(\u001b[38;5;124m\"\u001b[39m\u001b[38;5;130;01m\\n\u001b[39;00m\u001b[38;5;124mResult Table:\u001b[39m\u001b[38;5;124m\"\u001b[39m)\n\u001b[1;32m----> 3\u001b[0m \u001b[38;5;28mprint\u001b[39m(tabulate(\u001b[43mdf\u001b[49m\u001b[43m[\u001b[49m\u001b[43m[\u001b[49m\u001b[38;5;124;43m'\u001b[39;49m\u001b[38;5;124;43mDate\u001b[39;49m\u001b[38;5;124;43m'\u001b[39;49m\u001b[43m,\u001b[49m\u001b[43m \u001b[49m\u001b[38;5;124;43m'\u001b[39;49m\u001b[38;5;124;43mBallgorithm\u001b[39;49m\u001b[38;5;124;43m'\u001b[39;49m\u001b[43m,\u001b[49m\u001b[43m \u001b[49m\u001b[38;5;124;43m'\u001b[39;49m\u001b[38;5;124;43mESPN\u001b[39;49m\u001b[38;5;124;43m'\u001b[39;49m\u001b[43m]\u001b[49m\u001b[43m]\u001b[49m, headers\u001b[38;5;241m=\u001b[39m\u001b[38;5;124m'\u001b[39m\u001b[38;5;124mkeys\u001b[39m\u001b[38;5;124m'\u001b[39m, tablefmt\u001b[38;5;241m=\u001b[39m\u001b[38;5;124m'\u001b[39m\u001b[38;5;124mpretty\u001b[39m\u001b[38;5;124m'\u001b[39m, missingval\u001b[38;5;241m=\u001b[39m\u001b[38;5;124m'\u001b[39m\u001b[38;5;124m'\u001b[39m, showindex\u001b[38;5;241m=\u001b[39m\u001b[38;5;28;01mFalse\u001b[39;00m))\n",
      "File \u001b[1;32mc:\\Users\\inkdb\\AppData\\Local\\Programs\\Python\\Python311\\Lib\\site-packages\\pandas\\core\\frame.py:3811\u001b[0m, in \u001b[0;36mDataFrame.__getitem__\u001b[1;34m(self, key)\u001b[0m\n\u001b[0;32m   3809\u001b[0m     \u001b[38;5;28;01mif\u001b[39;00m is_iterator(key):\n\u001b[0;32m   3810\u001b[0m         key \u001b[38;5;241m=\u001b[39m \u001b[38;5;28mlist\u001b[39m(key)\n\u001b[1;32m-> 3811\u001b[0m     indexer \u001b[38;5;241m=\u001b[39m \u001b[38;5;28;43mself\u001b[39;49m\u001b[38;5;241;43m.\u001b[39;49m\u001b[43mcolumns\u001b[49m\u001b[38;5;241;43m.\u001b[39;49m\u001b[43m_get_indexer_strict\u001b[49m\u001b[43m(\u001b[49m\u001b[43mkey\u001b[49m\u001b[43m,\u001b[49m\u001b[43m \u001b[49m\u001b[38;5;124;43m\"\u001b[39;49m\u001b[38;5;124;43mcolumns\u001b[39;49m\u001b[38;5;124;43m\"\u001b[39;49m\u001b[43m)\u001b[49m[\u001b[38;5;241m1\u001b[39m]\n\u001b[0;32m   3813\u001b[0m \u001b[38;5;66;03m# take() does not accept boolean indexers\u001b[39;00m\n\u001b[0;32m   3814\u001b[0m \u001b[38;5;28;01mif\u001b[39;00m \u001b[38;5;28mgetattr\u001b[39m(indexer, \u001b[38;5;124m\"\u001b[39m\u001b[38;5;124mdtype\u001b[39m\u001b[38;5;124m\"\u001b[39m, \u001b[38;5;28;01mNone\u001b[39;00m) \u001b[38;5;241m==\u001b[39m \u001b[38;5;28mbool\u001b[39m:\n",
      "File \u001b[1;32mc:\\Users\\inkdb\\AppData\\Local\\Programs\\Python\\Python311\\Lib\\site-packages\\pandas\\core\\indexes\\base.py:6113\u001b[0m, in \u001b[0;36mIndex._get_indexer_strict\u001b[1;34m(self, key, axis_name)\u001b[0m\n\u001b[0;32m   6110\u001b[0m \u001b[38;5;28;01melse\u001b[39;00m:\n\u001b[0;32m   6111\u001b[0m     keyarr, indexer, new_indexer \u001b[38;5;241m=\u001b[39m \u001b[38;5;28mself\u001b[39m\u001b[38;5;241m.\u001b[39m_reindex_non_unique(keyarr)\n\u001b[1;32m-> 6113\u001b[0m \u001b[38;5;28;43mself\u001b[39;49m\u001b[38;5;241;43m.\u001b[39;49m\u001b[43m_raise_if_missing\u001b[49m\u001b[43m(\u001b[49m\u001b[43mkeyarr\u001b[49m\u001b[43m,\u001b[49m\u001b[43m \u001b[49m\u001b[43mindexer\u001b[49m\u001b[43m,\u001b[49m\u001b[43m \u001b[49m\u001b[43maxis_name\u001b[49m\u001b[43m)\u001b[49m\n\u001b[0;32m   6115\u001b[0m keyarr \u001b[38;5;241m=\u001b[39m \u001b[38;5;28mself\u001b[39m\u001b[38;5;241m.\u001b[39mtake(indexer)\n\u001b[0;32m   6116\u001b[0m \u001b[38;5;28;01mif\u001b[39;00m \u001b[38;5;28misinstance\u001b[39m(key, Index):\n\u001b[0;32m   6117\u001b[0m     \u001b[38;5;66;03m# GH 42790 - Preserve name from an Index\u001b[39;00m\n",
      "File \u001b[1;32mc:\\Users\\inkdb\\AppData\\Local\\Programs\\Python\\Python311\\Lib\\site-packages\\pandas\\core\\indexes\\base.py:6176\u001b[0m, in \u001b[0;36mIndex._raise_if_missing\u001b[1;34m(self, key, indexer, axis_name)\u001b[0m\n\u001b[0;32m   6173\u001b[0m     \u001b[38;5;28;01mraise\u001b[39;00m \u001b[38;5;167;01mKeyError\u001b[39;00m(\u001b[38;5;124mf\u001b[39m\u001b[38;5;124m\"\u001b[39m\u001b[38;5;124mNone of [\u001b[39m\u001b[38;5;132;01m{\u001b[39;00mkey\u001b[38;5;132;01m}\u001b[39;00m\u001b[38;5;124m] are in the [\u001b[39m\u001b[38;5;132;01m{\u001b[39;00maxis_name\u001b[38;5;132;01m}\u001b[39;00m\u001b[38;5;124m]\u001b[39m\u001b[38;5;124m\"\u001b[39m)\n\u001b[0;32m   6175\u001b[0m not_found \u001b[38;5;241m=\u001b[39m \u001b[38;5;28mlist\u001b[39m(ensure_index(key)[missing_mask\u001b[38;5;241m.\u001b[39mnonzero()[\u001b[38;5;241m0\u001b[39m]]\u001b[38;5;241m.\u001b[39munique())\n\u001b[1;32m-> 6176\u001b[0m \u001b[38;5;28;01mraise\u001b[39;00m \u001b[38;5;167;01mKeyError\u001b[39;00m(\u001b[38;5;124mf\u001b[39m\u001b[38;5;124m\"\u001b[39m\u001b[38;5;132;01m{\u001b[39;00mnot_found\u001b[38;5;132;01m}\u001b[39;00m\u001b[38;5;124m not in index\u001b[39m\u001b[38;5;124m\"\u001b[39m)\n",
      "\u001b[1;31mKeyError\u001b[0m: \"['Date'] not in index\""
     ]
    }
   ],
   "source": [
    "# Display the DataFrame using tabulate with \"Accuracy\" values formatted to 2 decimal places and green text\n",
    "print(\"\\nResult Table:\")\n",
    "print(tabulate(df[['Date', 'Ballgorithm', 'ESPN']], headers='keys', tablefmt='pretty', missingval='', showindex=False))"
   ]
  },
  {
   "cell_type": "code",
   "execution_count": null,
   "metadata": {},
   "outputs": [],
   "source": []
  }
 ],
 "metadata": {
  "kernelspec": {
   "display_name": "Python 3",
   "language": "python",
   "name": "python3"
  },
  "language_info": {
   "codemirror_mode": {
    "name": "ipython",
    "version": 3
   },
   "file_extension": ".py",
   "mimetype": "text/x-python",
   "name": "python",
   "nbconvert_exporter": "python",
   "pygments_lexer": "ipython3",
   "version": "3.11.0"
  }
 },
 "nbformat": 4,
 "nbformat_minor": 2
}
