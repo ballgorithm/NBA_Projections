{
 "cells": [
  {
   "cell_type": "code",
   "execution_count": 6,
   "metadata": {},
   "outputs": [],
   "source": [
    "import pandas as pd\n",
    "from prettytable import PrettyTable\n",
    "from tabulate import tabulate\n",
    "from termcolor import colored\n"
   ]
  },
  {
   "cell_type": "code",
   "execution_count": 7,
   "metadata": {},
   "outputs": [],
   "source": [
    "df = pd.read_excel('espn_comparison.xlsx')"
   ]
  },
  {
   "cell_type": "code",
   "execution_count": 8,
   "metadata": {},
   "outputs": [
    {
     "data": {
      "text/html": [
       "<div>\n",
       "<style scoped>\n",
       "    .dataframe tbody tr th:only-of-type {\n",
       "        vertical-align: middle;\n",
       "    }\n",
       "\n",
       "    .dataframe tbody tr th {\n",
       "        vertical-align: top;\n",
       "    }\n",
       "\n",
       "    .dataframe thead th {\n",
       "        text-align: right;\n",
       "    }\n",
       "</style>\n",
       "<table border=\"1\" class=\"dataframe\">\n",
       "  <thead>\n",
       "    <tr style=\"text-align: right;\">\n",
       "      <th></th>\n",
       "      <th>NBA, Friday 9th Feb 2024</th>\n",
       "      <th>Ballgorithm</th>\n",
       "      <th>ESPN</th>\n",
       "    </tr>\n",
       "  </thead>\n",
       "  <tbody>\n",
       "    <tr>\n",
       "      <th>0</th>\n",
       "      <td>Atlanta Hawks (22-29) vs Philadelphia 76ers (3...</td>\n",
       "      <td>Philadelphia 76ers (65.38%)</td>\n",
       "      <td>Philadelphia 76ers (62.4%)</td>\n",
       "    </tr>\n",
       "    <tr>\n",
       "      <th>1</th>\n",
       "      <td>Washington Wizards (9-41) vs Boston Celtics (3...</td>\n",
       "      <td>Boston Celtics (88.89%)</td>\n",
       "      <td>Boston Celtics (94.6%)</td>\n",
       "    </tr>\n",
       "    <tr>\n",
       "      <th>2</th>\n",
       "      <td>Houston Rockets (23-27) vs Toronto Raptors (18...</td>\n",
       "      <td>Houston Rockets (66.67%)</td>\n",
       "      <td>Houston Rockets (60.7%)</td>\n",
       "    </tr>\n",
       "    <tr>\n",
       "      <th>3</th>\n",
       "      <td>Charlotte Hornets (10-40) vs Milwaukee Bucks (...</td>\n",
       "      <td>Milwaukee Bucks (77.78%)</td>\n",
       "      <td>Milwaukee Bucks (88.8%)</td>\n",
       "    </tr>\n",
       "    <tr>\n",
       "      <th>4</th>\n",
       "      <td>Denver Nuggets (36-16) vs Sacramento Kings (29...</td>\n",
       "      <td>Denver Nuggets (84.00%)</td>\n",
       "      <td>Sacramento Kings (52.6%)</td>\n",
       "    </tr>\n",
       "    <tr>\n",
       "      <th>5</th>\n",
       "      <td>New Orleans Pelicans (30-21) vs Los Angeles La...</td>\n",
       "      <td>Los Angeles Lakers (66.67%)</td>\n",
       "      <td>New Orleans Pelicans (64.7%)</td>\n",
       "    </tr>\n",
       "  </tbody>\n",
       "</table>\n",
       "</div>"
      ],
      "text/plain": [
       "                            NBA, Friday 9th Feb 2024  \\\n",
       "0  Atlanta Hawks (22-29) vs Philadelphia 76ers (3...   \n",
       "1  Washington Wizards (9-41) vs Boston Celtics (3...   \n",
       "2  Houston Rockets (23-27) vs Toronto Raptors (18...   \n",
       "3  Charlotte Hornets (10-40) vs Milwaukee Bucks (...   \n",
       "4  Denver Nuggets (36-16) vs Sacramento Kings (29...   \n",
       "5  New Orleans Pelicans (30-21) vs Los Angeles La...   \n",
       "\n",
       "                   Ballgorithm                          ESPN  \n",
       "0  Philadelphia 76ers (65.38%)    Philadelphia 76ers (62.4%)  \n",
       "1     Boston Celtics (88.89%)        Boston Celtics (94.6%)   \n",
       "2     Houston Rockets (66.67%)       Houston Rockets (60.7%)  \n",
       "3     Milwaukee Bucks (77.78%)       Milwaukee Bucks (88.8%)  \n",
       "4      Denver Nuggets (84.00%)      Sacramento Kings (52.6%)  \n",
       "5  Los Angeles Lakers (66.67%)  New Orleans Pelicans (64.7%)  "
      ]
     },
     "execution_count": 8,
     "metadata": {},
     "output_type": "execute_result"
    }
   ],
   "source": [
    "df"
   ]
  },
  {
   "cell_type": "code",
   "execution_count": 9,
   "metadata": {},
   "outputs": [
    {
     "name": "stdout",
     "output_type": "stream",
     "text": [
      "+------------------------------------------------------------+-----------------------------+------------------------------+\n",
      "|                  NBA, Friday 9th Feb 2024                  |         Ballgorithm         |             ESPN             |\n",
      "+------------------------------------------------------------+-----------------------------+------------------------------+\n",
      "|    \u001b[32mAtlanta Hawks (22-29) vs Philadelphia 76ers (30-20)\u001b[0m     | \u001b[32mPhiladelphia 76ers (65.38%)\u001b[0m |  \u001b[32mPhiladelphia 76ers (62.4%)\u001b[0m  |\n",
      "|    \u001b[32mWashington Wizards (9-41) vs Boston Celtics (39-12)\u001b[0m     |  \u001b[32mBoston Celtics (88.89%) \u001b[0m   |   \u001b[32mBoston Celtics (94.6%) \u001b[0m    |\n",
      "|     \u001b[32mHouston Rockets (23-27) vs Toronto Raptors (18-33)\u001b[0m     |  \u001b[32mHouston Rockets (66.67%)\u001b[0m   |   \u001b[32mHouston Rockets (60.7%)\u001b[0m    |\n",
      "|    \u001b[32mCharlotte Hornets (10-40) vs Milwaukee Bucks (33-19)\u001b[0m    |  \u001b[32mMilwaukee Bucks (77.78%)\u001b[0m   |   \u001b[32mMilwaukee Bucks (88.8%)\u001b[0m    |\n",
      "|     \u001b[32mDenver Nuggets (36-16) vs Sacramento Kings (29-21)\u001b[0m     |   \u001b[32mDenver Nuggets (84.00%)\u001b[0m   |   \u001b[32mSacramento Kings (52.6%)\u001b[0m   |\n",
      "| \u001b[32mNew Orleans Pelicans (30-21) vs Los Angeles Lakers (28-26)\u001b[0m | \u001b[32mLos Angeles Lakers (66.67%)\u001b[0m | \u001b[32mNew Orleans Pelicans (64.7%)\u001b[0m |\n",
      "+------------------------------------------------------------+-----------------------------+------------------------------+\n"
     ]
    }
   ],
   "source": [
    "def color_value(val):\n",
    "    return colored(val, 'green')\n",
    "\n",
    "def color_header(header):\n",
    "    return colored(header, 'blue', attrs=['bold'])\n",
    "\n",
    "# Apply color functions to each cell in the dataframe, including headers\n",
    "colored_df = df.applymap(lambda x: color_value(x) if x not in df.columns else color_header(x))\n",
    "\n",
    "# Create a pretty table from the colored dataframe\n",
    "result_table = tabulate(colored_df, headers='keys', tablefmt='pretty', showindex=False)\n",
    "\n",
    "print(result_table)"
   ]
  },
  {
   "cell_type": "code",
   "execution_count": 10,
   "metadata": {},
   "outputs": [
    {
     "name": "stdout",
     "output_type": "stream",
     "text": [
      "\n",
      "Result Table:\n"
     ]
    },
    {
     "ename": "KeyError",
     "evalue": "\"['Date'] not in index\"",
     "output_type": "error",
     "traceback": [
      "\u001b[1;31m---------------------------------------------------------------------------\u001b[0m",
      "\u001b[1;31mKeyError\u001b[0m                                  Traceback (most recent call last)",
      "Cell \u001b[1;32mIn[10], line 3\u001b[0m\n\u001b[0;32m      1\u001b[0m \u001b[38;5;66;03m# Display the DataFrame using tabulate with \"Accuracy\" values formatted to 2 decimal places and green text\u001b[39;00m\n\u001b[0;32m      2\u001b[0m \u001b[38;5;28mprint\u001b[39m(\u001b[38;5;124m\"\u001b[39m\u001b[38;5;130;01m\\n\u001b[39;00m\u001b[38;5;124mResult Table:\u001b[39m\u001b[38;5;124m\"\u001b[39m)\n\u001b[1;32m----> 3\u001b[0m \u001b[38;5;28mprint\u001b[39m(tabulate(\u001b[43mdf\u001b[49m\u001b[43m[\u001b[49m\u001b[43m[\u001b[49m\u001b[38;5;124;43m'\u001b[39;49m\u001b[38;5;124;43mDate\u001b[39;49m\u001b[38;5;124;43m'\u001b[39;49m\u001b[43m,\u001b[49m\u001b[43m \u001b[49m\u001b[38;5;124;43m'\u001b[39;49m\u001b[38;5;124;43mBallgorithm\u001b[39;49m\u001b[38;5;124;43m'\u001b[39;49m\u001b[43m,\u001b[49m\u001b[43m \u001b[49m\u001b[38;5;124;43m'\u001b[39;49m\u001b[38;5;124;43mESPN\u001b[39;49m\u001b[38;5;124;43m'\u001b[39;49m\u001b[43m]\u001b[49m\u001b[43m]\u001b[49m, headers\u001b[38;5;241m=\u001b[39m\u001b[38;5;124m'\u001b[39m\u001b[38;5;124mkeys\u001b[39m\u001b[38;5;124m'\u001b[39m, tablefmt\u001b[38;5;241m=\u001b[39m\u001b[38;5;124m'\u001b[39m\u001b[38;5;124mpretty\u001b[39m\u001b[38;5;124m'\u001b[39m, missingval\u001b[38;5;241m=\u001b[39m\u001b[38;5;124m'\u001b[39m\u001b[38;5;124m'\u001b[39m, showindex\u001b[38;5;241m=\u001b[39m\u001b[38;5;28;01mFalse\u001b[39;00m))\n",
      "File \u001b[1;32mc:\\Users\\inkdb\\AppData\\Local\\Programs\\Python\\Python311\\Lib\\site-packages\\pandas\\core\\frame.py:3811\u001b[0m, in \u001b[0;36mDataFrame.__getitem__\u001b[1;34m(self, key)\u001b[0m\n\u001b[0;32m   3809\u001b[0m     \u001b[38;5;28;01mif\u001b[39;00m is_iterator(key):\n\u001b[0;32m   3810\u001b[0m         key \u001b[38;5;241m=\u001b[39m \u001b[38;5;28mlist\u001b[39m(key)\n\u001b[1;32m-> 3811\u001b[0m     indexer \u001b[38;5;241m=\u001b[39m \u001b[38;5;28;43mself\u001b[39;49m\u001b[38;5;241;43m.\u001b[39;49m\u001b[43mcolumns\u001b[49m\u001b[38;5;241;43m.\u001b[39;49m\u001b[43m_get_indexer_strict\u001b[49m\u001b[43m(\u001b[49m\u001b[43mkey\u001b[49m\u001b[43m,\u001b[49m\u001b[43m \u001b[49m\u001b[38;5;124;43m\"\u001b[39;49m\u001b[38;5;124;43mcolumns\u001b[39;49m\u001b[38;5;124;43m\"\u001b[39;49m\u001b[43m)\u001b[49m[\u001b[38;5;241m1\u001b[39m]\n\u001b[0;32m   3813\u001b[0m \u001b[38;5;66;03m# take() does not accept boolean indexers\u001b[39;00m\n\u001b[0;32m   3814\u001b[0m \u001b[38;5;28;01mif\u001b[39;00m \u001b[38;5;28mgetattr\u001b[39m(indexer, \u001b[38;5;124m\"\u001b[39m\u001b[38;5;124mdtype\u001b[39m\u001b[38;5;124m\"\u001b[39m, \u001b[38;5;28;01mNone\u001b[39;00m) \u001b[38;5;241m==\u001b[39m \u001b[38;5;28mbool\u001b[39m:\n",
      "File \u001b[1;32mc:\\Users\\inkdb\\AppData\\Local\\Programs\\Python\\Python311\\Lib\\site-packages\\pandas\\core\\indexes\\base.py:6113\u001b[0m, in \u001b[0;36mIndex._get_indexer_strict\u001b[1;34m(self, key, axis_name)\u001b[0m\n\u001b[0;32m   6110\u001b[0m \u001b[38;5;28;01melse\u001b[39;00m:\n\u001b[0;32m   6111\u001b[0m     keyarr, indexer, new_indexer \u001b[38;5;241m=\u001b[39m \u001b[38;5;28mself\u001b[39m\u001b[38;5;241m.\u001b[39m_reindex_non_unique(keyarr)\n\u001b[1;32m-> 6113\u001b[0m \u001b[38;5;28;43mself\u001b[39;49m\u001b[38;5;241;43m.\u001b[39;49m\u001b[43m_raise_if_missing\u001b[49m\u001b[43m(\u001b[49m\u001b[43mkeyarr\u001b[49m\u001b[43m,\u001b[49m\u001b[43m \u001b[49m\u001b[43mindexer\u001b[49m\u001b[43m,\u001b[49m\u001b[43m \u001b[49m\u001b[43maxis_name\u001b[49m\u001b[43m)\u001b[49m\n\u001b[0;32m   6115\u001b[0m keyarr \u001b[38;5;241m=\u001b[39m \u001b[38;5;28mself\u001b[39m\u001b[38;5;241m.\u001b[39mtake(indexer)\n\u001b[0;32m   6116\u001b[0m \u001b[38;5;28;01mif\u001b[39;00m \u001b[38;5;28misinstance\u001b[39m(key, Index):\n\u001b[0;32m   6117\u001b[0m     \u001b[38;5;66;03m# GH 42790 - Preserve name from an Index\u001b[39;00m\n",
      "File \u001b[1;32mc:\\Users\\inkdb\\AppData\\Local\\Programs\\Python\\Python311\\Lib\\site-packages\\pandas\\core\\indexes\\base.py:6176\u001b[0m, in \u001b[0;36mIndex._raise_if_missing\u001b[1;34m(self, key, indexer, axis_name)\u001b[0m\n\u001b[0;32m   6173\u001b[0m     \u001b[38;5;28;01mraise\u001b[39;00m \u001b[38;5;167;01mKeyError\u001b[39;00m(\u001b[38;5;124mf\u001b[39m\u001b[38;5;124m\"\u001b[39m\u001b[38;5;124mNone of [\u001b[39m\u001b[38;5;132;01m{\u001b[39;00mkey\u001b[38;5;132;01m}\u001b[39;00m\u001b[38;5;124m] are in the [\u001b[39m\u001b[38;5;132;01m{\u001b[39;00maxis_name\u001b[38;5;132;01m}\u001b[39;00m\u001b[38;5;124m]\u001b[39m\u001b[38;5;124m\"\u001b[39m)\n\u001b[0;32m   6175\u001b[0m not_found \u001b[38;5;241m=\u001b[39m \u001b[38;5;28mlist\u001b[39m(ensure_index(key)[missing_mask\u001b[38;5;241m.\u001b[39mnonzero()[\u001b[38;5;241m0\u001b[39m]]\u001b[38;5;241m.\u001b[39munique())\n\u001b[1;32m-> 6176\u001b[0m \u001b[38;5;28;01mraise\u001b[39;00m \u001b[38;5;167;01mKeyError\u001b[39;00m(\u001b[38;5;124mf\u001b[39m\u001b[38;5;124m\"\u001b[39m\u001b[38;5;132;01m{\u001b[39;00mnot_found\u001b[38;5;132;01m}\u001b[39;00m\u001b[38;5;124m not in index\u001b[39m\u001b[38;5;124m\"\u001b[39m)\n",
      "\u001b[1;31mKeyError\u001b[0m: \"['Date'] not in index\""
     ]
    }
   ],
   "source": [
    "# Display the DataFrame using tabulate with \"Accuracy\" values formatted to 2 decimal places and green text\n",
    "print(\"\\nResult Table:\")\n",
    "print(tabulate(df[['Date', 'Ballgorithm', 'ESPN']], headers='keys', tablefmt='pretty', missingval='', showindex=False))"
   ]
  },
  {
   "cell_type": "code",
   "execution_count": null,
   "metadata": {},
   "outputs": [],
   "source": []
  }
 ],
 "metadata": {
  "kernelspec": {
   "display_name": "Python 3",
   "language": "python",
   "name": "python3"
  },
  "language_info": {
   "codemirror_mode": {
    "name": "ipython",
    "version": 3
   },
   "file_extension": ".py",
   "mimetype": "text/x-python",
   "name": "python",
   "nbconvert_exporter": "python",
   "pygments_lexer": "ipython3",
   "version": "3.11.0"
  }
 },
 "nbformat": 4,
 "nbformat_minor": 2
}
