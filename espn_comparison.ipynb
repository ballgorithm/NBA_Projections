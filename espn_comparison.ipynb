{
 "cells": [
  {
   "cell_type": "code",
   "execution_count": 1,
   "metadata": {},
   "outputs": [],
   "source": [
    "import pandas as pd\n",
    "from prettytable import PrettyTable\n",
    "from tabulate import tabulate\n",
    "from termcolor import colored\n"
   ]
  },
  {
   "cell_type": "code",
   "execution_count": 2,
   "metadata": {},
   "outputs": [],
   "source": [
    "df = pd.read_excel('espn_comparison.xlsx')"
   ]
  },
  {
   "cell_type": "code",
   "execution_count": 3,
   "metadata": {},
   "outputs": [
    {
     "data": {
      "text/html": [
       "<div>\n",
       "<style scoped>\n",
       "    .dataframe tbody tr th:only-of-type {\n",
       "        vertical-align: middle;\n",
       "    }\n",
       "\n",
       "    .dataframe tbody tr th {\n",
       "        vertical-align: top;\n",
       "    }\n",
       "\n",
       "    .dataframe thead th {\n",
       "        text-align: right;\n",
       "    }\n",
       "</style>\n",
       "<table border=\"1\" class=\"dataframe\">\n",
       "  <thead>\n",
       "    <tr style=\"text-align: right;\">\n",
       "      <th></th>\n",
       "      <th>NBA, Sunday 25th Feb 2024</th>\n",
       "      <th>Ballgorithm</th>\n",
       "      <th>ESPN</th>\n",
       "    </tr>\n",
       "  </thead>\n",
       "  <tbody>\n",
       "    <tr>\n",
       "      <th>0</th>\n",
       "      <td>Milwaukee Bucks (36-21) vs Philadelphia 76ers ...</td>\n",
       "      <td>Milwaukee Bucks (76.67%)</td>\n",
       "      <td>Philadelphia 76ers (51.9%)</td>\n",
       "    </tr>\n",
       "    <tr>\n",
       "      <th>1</th>\n",
       "      <td>Los Angeles Lakers (32-27) vs Phoenix Suns (33...</td>\n",
       "      <td>Los Angeles Lakers (70.00%)</td>\n",
       "      <td>Los Angeles Lakers (67.2%)</td>\n",
       "    </tr>\n",
       "    <tr>\n",
       "      <th>2</th>\n",
       "      <td>Dallas Mavericks (33-23) vs Indiana Pacers (32...</td>\n",
       "      <td>Indiana Pacers (62.07%)</td>\n",
       "      <td>Indiana Pacers (55.7%)</td>\n",
       "    </tr>\n",
       "    <tr>\n",
       "      <th>3</th>\n",
       "      <td>Cleveland Cavaliers (36-19) vs Washington Wiza...</td>\n",
       "      <td>Cleveland Cavaliers (65.52%)</td>\n",
       "      <td>Cleveland Cavaliers (87.1%)</td>\n",
       "    </tr>\n",
       "    <tr>\n",
       "      <th>4</th>\n",
       "      <td>Orlando Magic (32-25) vs Atlanta Hawks (24-32)</td>\n",
       "      <td>Orlando Magic (69.23%)</td>\n",
       "      <td>Orlando Magic (58.7%)</td>\n",
       "    </tr>\n",
       "    <tr>\n",
       "      <th>5</th>\n",
       "      <td>Denver Nuggets (38-19) vs Golden State Warrior...</td>\n",
       "      <td>Denver Nuggets (81.48%)</td>\n",
       "      <td>Denver Nuggets (67.6%)</td>\n",
       "    </tr>\n",
       "    <tr>\n",
       "      <th>6</th>\n",
       "      <td>Oklahoma City Thunder (39-17) vs Houston Rocke...</td>\n",
       "      <td>Oklahoma City Thunder (79.31%)</td>\n",
       "      <td>Oklahoma City Thunder (71.1%)</td>\n",
       "    </tr>\n",
       "    <tr>\n",
       "      <th>7</th>\n",
       "      <td>Chicago Bulls (26-30) vs New Orleans Pelicans ...</td>\n",
       "      <td>New Orleans Pelicans (60.71%)</td>\n",
       "      <td>New Orleans Pelicans (66.7%)</td>\n",
       "    </tr>\n",
       "    <tr>\n",
       "      <th>8</th>\n",
       "      <td>San Antonio Spurs (11-46) vs Utah Jazz (26-31)</td>\n",
       "      <td>Utah Jazz (60.71%)</td>\n",
       "      <td>Utah Jazz (79.5%)</td>\n",
       "    </tr>\n",
       "    <tr>\n",
       "      <th>9</th>\n",
       "      <td>Charlotte Hornets (14-42) vs Portland Trail Bl...</td>\n",
       "      <td>Charlotte Hornets (66.67%)</td>\n",
       "      <td>Portland Trail Blazers (66.0%)</td>\n",
       "    </tr>\n",
       "    <tr>\n",
       "      <th>10</th>\n",
       "      <td>Sacramento Kings (32-23) vs Los Angeles Clippe...</td>\n",
       "      <td>Los Angeles Clippers (76.92%)</td>\n",
       "      <td>Los Angeles Clippers (73.8%)</td>\n",
       "    </tr>\n",
       "  </tbody>\n",
       "</table>\n",
       "</div>"
      ],
      "text/plain": [
       "                            NBA, Sunday 25th Feb 2024  \\\n",
       "0   Milwaukee Bucks (36-21) vs Philadelphia 76ers ...   \n",
       "1   Los Angeles Lakers (32-27) vs Phoenix Suns (33...   \n",
       "2   Dallas Mavericks (33-23) vs Indiana Pacers (32...   \n",
       "3   Cleveland Cavaliers (36-19) vs Washington Wiza...   \n",
       "4      Orlando Magic (32-25) vs Atlanta Hawks (24-32)   \n",
       "5   Denver Nuggets (38-19) vs Golden State Warrior...   \n",
       "6   Oklahoma City Thunder (39-17) vs Houston Rocke...   \n",
       "7   Chicago Bulls (26-30) vs New Orleans Pelicans ...   \n",
       "8      San Antonio Spurs (11-46) vs Utah Jazz (26-31)   \n",
       "9   Charlotte Hornets (14-42) vs Portland Trail Bl...   \n",
       "10  Sacramento Kings (32-23) vs Los Angeles Clippe...   \n",
       "\n",
       "                       Ballgorithm                            ESPN  \n",
       "0         Milwaukee Bucks (76.67%)      Philadelphia 76ers (51.9%)  \n",
       "1      Los Angeles Lakers (70.00%)      Los Angeles Lakers (67.2%)  \n",
       "2          Indiana Pacers (62.07%)          Indiana Pacers (55.7%)  \n",
       "3     Cleveland Cavaliers (65.52%)     Cleveland Cavaliers (87.1%)  \n",
       "4           Orlando Magic (69.23%)           Orlando Magic (58.7%)  \n",
       "5          Denver Nuggets (81.48%)          Denver Nuggets (67.6%)  \n",
       "6   Oklahoma City Thunder (79.31%)   Oklahoma City Thunder (71.1%)  \n",
       "7    New Orleans Pelicans (60.71%)    New Orleans Pelicans (66.7%)  \n",
       "8              Utah Jazz (60.71%)               Utah Jazz (79.5%)   \n",
       "9       Charlotte Hornets (66.67%)  Portland Trail Blazers (66.0%)  \n",
       "10   Los Angeles Clippers (76.92%)    Los Angeles Clippers (73.8%)  "
      ]
     },
     "execution_count": 3,
     "metadata": {},
     "output_type": "execute_result"
    }
   ],
   "source": [
    "df"
   ]
  },
  {
   "cell_type": "code",
   "execution_count": 4,
   "metadata": {},
   "outputs": [
    {
     "name": "stdout",
     "output_type": "stream",
     "text": [
      "+-------------------------------------------------------------+--------------------------------+--------------------------------+\n",
      "|                  NBA, Sunday 25th Feb 2024                  |          Ballgorithm           |              ESPN              |\n",
      "+-------------------------------------------------------------+--------------------------------+--------------------------------+\n",
      "|    \u001b[32mMilwaukee Bucks (36-21) vs Philadelphia 76ers (33-23)\u001b[0m    |    \u001b[32mMilwaukee Bucks (76.67%)\u001b[0m    |   \u001b[32mPhiladelphia 76ers (51.9%)\u001b[0m   |\n",
      "|     \u001b[32mLos Angeles Lakers (32-27) vs Phoenix Suns (33-24)\u001b[0m      |  \u001b[32mLos Angeles Lakers (70.00%)\u001b[0m   |   \u001b[32mLos Angeles Lakers (67.2%)\u001b[0m   |\n",
      "|     \u001b[32mDallas Mavericks (33-23) vs Indiana Pacers (32-26)\u001b[0m      |    \u001b[32mIndiana Pacers (62.07%)\u001b[0m     |     \u001b[32mIndiana Pacers (55.7%)\u001b[0m     |\n",
      "|  \u001b[32mCleveland Cavaliers (36-19) vs Washington Wizards (9-47)\u001b[0m   |  \u001b[32mCleveland Cavaliers (65.52%)\u001b[0m  |  \u001b[32mCleveland Cavaliers (87.1%)\u001b[0m   |\n",
      "|       \u001b[32mOrlando Magic (32-25) vs Atlanta Hawks (24-32)\u001b[0m        |     \u001b[32mOrlando Magic (69.23%)\u001b[0m     |     \u001b[32mOrlando Magic (58.7%)\u001b[0m      |\n",
      "|   \u001b[32mDenver Nuggets (38-19) vs Golden State Warriors (29-26)\u001b[0m   |    \u001b[32mDenver Nuggets (81.48%)\u001b[0m     |     \u001b[32mDenver Nuggets (67.6%)\u001b[0m     |\n",
      "|  \u001b[32mOklahoma City Thunder (39-17) vs Houston Rockets (25-31)\u001b[0m   | \u001b[32mOklahoma City Thunder (79.31%)\u001b[0m | \u001b[32mOklahoma City Thunder (71.1%)\u001b[0m  |\n",
      "|    \u001b[32mChicago Bulls (26-30) vs New Orleans Pelicans (34-23)\u001b[0m    | \u001b[32mNew Orleans Pelicans (60.71%)\u001b[0m  |  \u001b[32mNew Orleans Pelicans (66.7%)\u001b[0m  |\n",
      "|       \u001b[32mSan Antonio Spurs (11-46) vs Utah Jazz (26-31)\u001b[0m        |      \u001b[32mUtah Jazz (60.71%) \u001b[0m       |       \u001b[32mUtah Jazz (79.5%) \u001b[0m       |\n",
      "| \u001b[32mCharlotte Hornets (14-42) vs Portland Trail Blazers (15-40)\u001b[0m |   \u001b[32mCharlotte Hornets (66.67%)\u001b[0m   | \u001b[32mPortland Trail Blazers (66.0%)\u001b[0m |\n",
      "|  \u001b[32mSacramento Kings (32-23) vs Los Angeles Clippers (37-18)\u001b[0m   | \u001b[32mLos Angeles Clippers (76.92%)\u001b[0m  |  \u001b[32mLos Angeles Clippers (73.8%)\u001b[0m  |\n",
      "+-------------------------------------------------------------+--------------------------------+--------------------------------+\n"
     ]
    }
   ],
   "source": [
    "def color_value(val):\n",
    "    return colored(val, 'green')\n",
    "\n",
    "def color_header(header):\n",
    "    return colored(header, 'blue', attrs=['bold'])\n",
    "\n",
    "# Apply color functions to each cell in the dataframe, including headers\n",
    "colored_df = df.applymap(lambda x: color_value(x) if x not in df.columns else color_header(x))\n",
    "\n",
    "# Create a pretty table from the colored dataframe\n",
    "result_table = tabulate(colored_df, headers='keys', tablefmt='pretty', showindex=False)\n",
    "\n",
    "print(result_table)"
   ]
  },
  {
   "cell_type": "code",
   "execution_count": 5,
   "metadata": {},
   "outputs": [
    {
     "name": "stdout",
     "output_type": "stream",
     "text": [
      "\n",
      "Result Table:\n"
     ]
    },
    {
     "ename": "KeyError",
     "evalue": "\"['Date'] not in index\"",
     "output_type": "error",
     "traceback": [
      "\u001b[1;31m---------------------------------------------------------------------------\u001b[0m",
      "\u001b[1;31mKeyError\u001b[0m                                  Traceback (most recent call last)",
      "Cell \u001b[1;32mIn[5], line 3\u001b[0m\n\u001b[0;32m      1\u001b[0m \u001b[38;5;66;03m# Display the DataFrame using tabulate with \"Accuracy\" values formatted to 2 decimal places and green text\u001b[39;00m\n\u001b[0;32m      2\u001b[0m \u001b[38;5;28mprint\u001b[39m(\u001b[38;5;124m\"\u001b[39m\u001b[38;5;130;01m\\n\u001b[39;00m\u001b[38;5;124mResult Table:\u001b[39m\u001b[38;5;124m\"\u001b[39m)\n\u001b[1;32m----> 3\u001b[0m \u001b[38;5;28mprint\u001b[39m(tabulate(\u001b[43mdf\u001b[49m\u001b[43m[\u001b[49m\u001b[43m[\u001b[49m\u001b[38;5;124;43m'\u001b[39;49m\u001b[38;5;124;43mDate\u001b[39;49m\u001b[38;5;124;43m'\u001b[39;49m\u001b[43m,\u001b[49m\u001b[43m \u001b[49m\u001b[38;5;124;43m'\u001b[39;49m\u001b[38;5;124;43mBallgorithm\u001b[39;49m\u001b[38;5;124;43m'\u001b[39;49m\u001b[43m,\u001b[49m\u001b[43m \u001b[49m\u001b[38;5;124;43m'\u001b[39;49m\u001b[38;5;124;43mESPN\u001b[39;49m\u001b[38;5;124;43m'\u001b[39;49m\u001b[43m]\u001b[49m\u001b[43m]\u001b[49m, headers\u001b[38;5;241m=\u001b[39m\u001b[38;5;124m'\u001b[39m\u001b[38;5;124mkeys\u001b[39m\u001b[38;5;124m'\u001b[39m, tablefmt\u001b[38;5;241m=\u001b[39m\u001b[38;5;124m'\u001b[39m\u001b[38;5;124mpretty\u001b[39m\u001b[38;5;124m'\u001b[39m, missingval\u001b[38;5;241m=\u001b[39m\u001b[38;5;124m'\u001b[39m\u001b[38;5;124m'\u001b[39m, showindex\u001b[38;5;241m=\u001b[39m\u001b[38;5;28;01mFalse\u001b[39;00m))\n",
      "File \u001b[1;32mc:\\Users\\inkdb\\AppData\\Local\\Programs\\Python\\Python311\\Lib\\site-packages\\pandas\\core\\frame.py:3811\u001b[0m, in \u001b[0;36mDataFrame.__getitem__\u001b[1;34m(self, key)\u001b[0m\n\u001b[0;32m   3809\u001b[0m     \u001b[38;5;28;01mif\u001b[39;00m is_iterator(key):\n\u001b[0;32m   3810\u001b[0m         key \u001b[38;5;241m=\u001b[39m \u001b[38;5;28mlist\u001b[39m(key)\n\u001b[1;32m-> 3811\u001b[0m     indexer \u001b[38;5;241m=\u001b[39m \u001b[38;5;28;43mself\u001b[39;49m\u001b[38;5;241;43m.\u001b[39;49m\u001b[43mcolumns\u001b[49m\u001b[38;5;241;43m.\u001b[39;49m\u001b[43m_get_indexer_strict\u001b[49m\u001b[43m(\u001b[49m\u001b[43mkey\u001b[49m\u001b[43m,\u001b[49m\u001b[43m \u001b[49m\u001b[38;5;124;43m\"\u001b[39;49m\u001b[38;5;124;43mcolumns\u001b[39;49m\u001b[38;5;124;43m\"\u001b[39;49m\u001b[43m)\u001b[49m[\u001b[38;5;241m1\u001b[39m]\n\u001b[0;32m   3813\u001b[0m \u001b[38;5;66;03m# take() does not accept boolean indexers\u001b[39;00m\n\u001b[0;32m   3814\u001b[0m \u001b[38;5;28;01mif\u001b[39;00m \u001b[38;5;28mgetattr\u001b[39m(indexer, \u001b[38;5;124m\"\u001b[39m\u001b[38;5;124mdtype\u001b[39m\u001b[38;5;124m\"\u001b[39m, \u001b[38;5;28;01mNone\u001b[39;00m) \u001b[38;5;241m==\u001b[39m \u001b[38;5;28mbool\u001b[39m:\n",
      "File \u001b[1;32mc:\\Users\\inkdb\\AppData\\Local\\Programs\\Python\\Python311\\Lib\\site-packages\\pandas\\core\\indexes\\base.py:6113\u001b[0m, in \u001b[0;36mIndex._get_indexer_strict\u001b[1;34m(self, key, axis_name)\u001b[0m\n\u001b[0;32m   6110\u001b[0m \u001b[38;5;28;01melse\u001b[39;00m:\n\u001b[0;32m   6111\u001b[0m     keyarr, indexer, new_indexer \u001b[38;5;241m=\u001b[39m \u001b[38;5;28mself\u001b[39m\u001b[38;5;241m.\u001b[39m_reindex_non_unique(keyarr)\n\u001b[1;32m-> 6113\u001b[0m \u001b[38;5;28;43mself\u001b[39;49m\u001b[38;5;241;43m.\u001b[39;49m\u001b[43m_raise_if_missing\u001b[49m\u001b[43m(\u001b[49m\u001b[43mkeyarr\u001b[49m\u001b[43m,\u001b[49m\u001b[43m \u001b[49m\u001b[43mindexer\u001b[49m\u001b[43m,\u001b[49m\u001b[43m \u001b[49m\u001b[43maxis_name\u001b[49m\u001b[43m)\u001b[49m\n\u001b[0;32m   6115\u001b[0m keyarr \u001b[38;5;241m=\u001b[39m \u001b[38;5;28mself\u001b[39m\u001b[38;5;241m.\u001b[39mtake(indexer)\n\u001b[0;32m   6116\u001b[0m \u001b[38;5;28;01mif\u001b[39;00m \u001b[38;5;28misinstance\u001b[39m(key, Index):\n\u001b[0;32m   6117\u001b[0m     \u001b[38;5;66;03m# GH 42790 - Preserve name from an Index\u001b[39;00m\n",
      "File \u001b[1;32mc:\\Users\\inkdb\\AppData\\Local\\Programs\\Python\\Python311\\Lib\\site-packages\\pandas\\core\\indexes\\base.py:6176\u001b[0m, in \u001b[0;36mIndex._raise_if_missing\u001b[1;34m(self, key, indexer, axis_name)\u001b[0m\n\u001b[0;32m   6173\u001b[0m     \u001b[38;5;28;01mraise\u001b[39;00m \u001b[38;5;167;01mKeyError\u001b[39;00m(\u001b[38;5;124mf\u001b[39m\u001b[38;5;124m\"\u001b[39m\u001b[38;5;124mNone of [\u001b[39m\u001b[38;5;132;01m{\u001b[39;00mkey\u001b[38;5;132;01m}\u001b[39;00m\u001b[38;5;124m] are in the [\u001b[39m\u001b[38;5;132;01m{\u001b[39;00maxis_name\u001b[38;5;132;01m}\u001b[39;00m\u001b[38;5;124m]\u001b[39m\u001b[38;5;124m\"\u001b[39m)\n\u001b[0;32m   6175\u001b[0m not_found \u001b[38;5;241m=\u001b[39m \u001b[38;5;28mlist\u001b[39m(ensure_index(key)[missing_mask\u001b[38;5;241m.\u001b[39mnonzero()[\u001b[38;5;241m0\u001b[39m]]\u001b[38;5;241m.\u001b[39munique())\n\u001b[1;32m-> 6176\u001b[0m \u001b[38;5;28;01mraise\u001b[39;00m \u001b[38;5;167;01mKeyError\u001b[39;00m(\u001b[38;5;124mf\u001b[39m\u001b[38;5;124m\"\u001b[39m\u001b[38;5;132;01m{\u001b[39;00mnot_found\u001b[38;5;132;01m}\u001b[39;00m\u001b[38;5;124m not in index\u001b[39m\u001b[38;5;124m\"\u001b[39m)\n",
      "\u001b[1;31mKeyError\u001b[0m: \"['Date'] not in index\""
     ]
    }
   ],
   "source": [
    "# Display the DataFrame using tabulate with \"Accuracy\" values formatted to 2 decimal places and green text\n",
    "print(\"\\nResult Table:\")\n",
    "print(tabulate(df[['Date', 'Ballgorithm', 'ESPN']], headers='keys', tablefmt='pretty', missingval='', showindex=False))"
   ]
  },
  {
   "cell_type": "code",
   "execution_count": null,
   "metadata": {},
   "outputs": [],
   "source": []
  }
 ],
 "metadata": {
  "kernelspec": {
   "display_name": "Python 3",
   "language": "python",
   "name": "python3"
  },
  "language_info": {
   "codemirror_mode": {
    "name": "ipython",
    "version": 3
   },
   "file_extension": ".py",
   "mimetype": "text/x-python",
   "name": "python",
   "nbconvert_exporter": "python",
   "pygments_lexer": "ipython3",
   "version": "3.11.0"
  }
 },
 "nbformat": 4,
 "nbformat_minor": 2
}
